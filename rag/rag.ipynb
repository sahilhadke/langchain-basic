{
 "cells": [
  {
   "cell_type": "code",
   "execution_count": 2,
   "metadata": {},
   "outputs": [
    {
     "ename": "NameError",
     "evalue": "name 'ChatGoogleGenerativeAI' is not defined",
     "output_type": "error",
     "traceback": [
      "\u001b[0;31m---------------------------------------------------------------------------\u001b[0m",
      "\u001b[0;31mNameError\u001b[0m                                 Traceback (most recent call last)",
      "Cell \u001b[0;32mIn[2], line 7\u001b[0m\n\u001b[1;32m      4\u001b[0m load_dotenv(\u001b[38;5;124m'\u001b[39m\u001b[38;5;124m../.env\u001b[39m\u001b[38;5;124m'\u001b[39m)\n\u001b[1;32m      6\u001b[0m os\u001b[38;5;241m.\u001b[39menviron[\u001b[38;5;124m'\u001b[39m\u001b[38;5;124mGOOGLE_API_KEY\u001b[39m\u001b[38;5;124m'\u001b[39m] \u001b[38;5;241m=\u001b[39m os\u001b[38;5;241m.\u001b[39mgetenv(\u001b[38;5;124m'\u001b[39m\u001b[38;5;124mGOOGLE_API_KEY\u001b[39m\u001b[38;5;124m'\u001b[39m)\n\u001b[0;32m----> 7\u001b[0m llm \u001b[38;5;241m=\u001b[39m \u001b[43mChatGoogleGenerativeAI\u001b[49m(model\u001b[38;5;241m=\u001b[39m\u001b[38;5;124m\"\u001b[39m\u001b[38;5;124mgemini-pro\u001b[39m\u001b[38;5;124m\"\u001b[39m, google_api_key\u001b[38;5;241m=\u001b[39mos\u001b[38;5;241m.\u001b[39mgetenv(\u001b[38;5;124m\"\u001b[39m\u001b[38;5;124mGOOGLE_API_KEY\u001b[39m\u001b[38;5;124m\"\u001b[39m))\n",
      "\u001b[0;31mNameError\u001b[0m: name 'ChatGoogleGenerativeAI' is not defined"
     ]
    }
   ],
   "source": [
    "import os\n",
    "from dotenv import load_dotenv\n",
    "from langchain_google_genai import ChatGoogleGenerativeAI \n",
    "\n",
    "load_dotenv('../.env')\n",
    "\n",
    "os.environ['GOOGLE_API_KEY'] = os.getenv('GOOGLE_API_KEY')\n",
    "llm = ChatGoogleGenerativeAI(model=\"gemini-pro\", google_api_key=os.getenv(\"GOOGLE_API_KEY\"))"
   ]
  },
  {
   "cell_type": "code",
   "execution_count": 18,
   "metadata": {},
   "outputs": [
    {
     "data": {
      "text/plain": [
       "[Document(page_content=\"SOFTWARE ENGINEER INTERN\\n\\n11596\\nChandler, Arizona\\nCore Business Hours\\nIntern\\nOverview\\n\\nWe are seeking a full-time Software Engineer Intern  in our Chandler, AZ location. In this role, you will be responsible for learning and training to develop software for Garmin's communication and navigation products under supervision.\\nEssential Functions\\nLearn to develop software using C, C++, C#, Java, assembly language, or other selected languages\\nLearn to test software using debuggers, emulators, simulators, and logic analyzers\\nLearn to perform software releases and software quality assurance activities\\nLearn to perform maintenance activities for products already in production in addition to new product software design\\nBasic Qualifications\\nCompleted coursework in Computer Science, Electrical Engineering, Computer Engineering, or a related field\\nExcellent academics (cumulative GPA greater than or equal to 3.0 as a general rule)\\nMust possess relevant experience and/or training in languages such as C, C++, C# or Java\\nMust possess relevant experience and/or training in data structures or object oriented design methodology\\nDesired Qualifications\\nOutstanding academics (cumulative GPA greater than or equal to 3.5)\", metadata={'source': './text_example.txt'})]"
      ]
     },
     "execution_count": 18,
     "metadata": {},
     "output_type": "execute_result"
    }
   ],
   "source": [
    "from langchain_community.document_loaders import TextLoader\n",
    "loader = TextLoader('./text_example.txt')\n",
    "text_documents = loader.load()\n",
    "# type(text_documents)\n",
    "text_documents"
   ]
  },
  {
   "cell_type": "code",
   "execution_count": 19,
   "metadata": {},
   "outputs": [
    {
     "data": {
      "text/plain": [
       "[Document(page_content='\\n\\n\\n\\n\\n\\n\\n\\n\\nSahil Hadke | Software Engineer & RPA Specialist\\n\\n\\n\\n\\n\\n\\n\\n\\n\\n\\n\\n\\n\\n\\n\\n\\n\\n\\n\\n\\n\\n\\n\\n\\n\\n\\nSahil\\n\\n\\n\\n\\n\\n\\n\\nHome (current)\\n\\nAbout\\n\\n\\nContact\\n\\n\\n\\n\\n\\n\\n\\n\\n\\n\\n\\n\\n\\n\\n\\n\\n\\n\\n\\n\\n\\n\\n\\nHadke\\nSahil Hadke.\\nInnovative Software Engineer with a passion for RPA, Java, and Web Development, dedicated to transforming ideas into efficient, tech-driven solutions.\\n\\t\\t\\t\\t\\t\\n\\t\\t\\t\\t\\t\\t\\n\\t\\t\\t\\t\\t\\nView Resume\\n\\n\\n\\n\\n\\n\\n\\n\\n\\n\\n\\n\\n\\nAbout Me\\n\\n\\nI\\'m a results-driven software engineer with expertise in RPA, Java development, and web technologies. With a strong foundation in Computer Engineering and certifications in AWS and cPanel, I\\'ve contributed to both startups and established organizations, delivering automation solutions, dynamic web applications, and fostering client satisfaction. Recognized as the \"Best Student of the Year\" during my engineering studies, I\\'m committed to continuous growth and excellence, actively engaging in the tech community and seeking new challenges to make a meaningful impact.\\n\\n\\n\\n\\n\\n\\n\\n\\n\\n\\n\\n\\n\\n Contact\\nGet in Touch\\n\\n\\n\\n\\n\\n\\n\\n\\n\\n                                Your message was sent successfully.\\n                            \\n\\n\\n\\n\\n\\n\\n\\n\\n\\n\\n\\n\\n\\n\\n\\n\\n\\n\\n\\n\\n\\n\\n\\n\\n\\nSahil\\n\\n\\n\\n\\n\\n\\n\\n\\n\\n\\n© 2022 All Right Reserved.\\n\\n\\n\\n\\n\\n\\n\\n\\n\\n\\n\\n\\n\\n\\n\\n\\n\\n\\n\\n\\n\\n\\n\\n\\n\\n\\n\\n', metadata={'source': 'https://sahil.hadke.in/', 'title': 'Sahil Hadke | Software Engineer & RPA Specialist', 'description': 'Self-taught Web Developer with over two years of work experience.', 'language': 'zxx'})]"
      ]
     },
     "execution_count": 19,
     "metadata": {},
     "output_type": "execute_result"
    }
   ],
   "source": [
    "from langchain_community.document_loaders import WebBaseLoader\n",
    "\n",
    "loader = WebBaseLoader(web_paths=('https://sahil.hadke.in/',))\n",
    "\n",
    "text_documents = loader.load()\n",
    "text_documents"
   ]
  },
  {
   "cell_type": "code",
   "execution_count": 20,
   "metadata": {},
   "outputs": [
    {
     "data": {
      "text/plain": [
       "[Document(page_content='Sahil Yogesh Hadke\\nTempe, AZ |+1-6026936593 |shadke1@asu.edu |https://sahil.hadke.in/\\nEducation\\nArizona State University, USA December 2025\\nMasters of Science - Computer Science\\nCoursework: Semantic Web Mining, Data Visualization, Knowledge Representation and Reasoning\\nSavitribai Phule Pune Univeristy, Pune, India May 2022\\nBachelor of Engineering in Computer Engineering GPA: 9.7/10\\nCoursework: Database Management, Artificial Intelligence, Data Structures & Algorithms\\nSkills\\nTechnical Skills : Node, Express, CodeIgniter, PHP, MongoDB, MySQL, Bootstrap, React, CSS, HTML, Web Scraping,\\nSelenium, RPA, Powershell, VBA, Microsoft Office Suite (Word, Excel, Powerpoint, Outlook), Google Sheets, OneNote,\\nSlack, Canvas, Dropbox, Adobe Acrobat, Photoshop, GIMP, Unity 3D, AWS\\nManagement Skills : Customer Service, Security Procedures, Verbal and Written Communication, Event Planning,\\nTeam Leadership, Radio Technologies and Walkie-Talkie Operation, Ability to lift up to 50 lbs\\nProgramming Languages : Python, Java, C++, C#, JavaScript\\nCertifications : AWS Cloud Foundations, cPanel Professional Certificate\\nExperience\\nFront Desk Assistant 05/18 to 8/18\\nNeeldeep Hardware Pune, India\\n•Managed a high volume of client interactions, serving an average of 50 customers daily , and consistently\\nproviding exceptional customer service with professionalism and efficiency.\\n•Successfully handled multiple responsibilities simultaneously, including managing an average of 25 phone calls\\ndaily , greeting customers, and addressing their concerns, contributing to a positive and welcoming atmosphere.\\n•Demonstrated strong interpersonal and communication skills while assisting customers with product information,\\nresolving issues, and ensuring a positive shopping experience.\\n•Collaborated with team members to streamline front desk operations, resulting in a 20% improvement in overall\\ncustomer experience.\\n•Collaborated with team members to streamline front desk operations, contributing to improved customer\\nsatisfaction and overall store efficiency.\\nTechnical Secretary Head 11/21 to 12/22\\nComputer Engineering Student Association Pune, India\\n•Managed and led a team of 20+ students during events, ensuring smooth collaboration, delegation of tasks, and\\nadherence to timelines.\\n•Successfully conducted multiple events, showcasing effective event planning, coordination, and execution abilities.\\n•Demonstrated strong leadership and organizational skills in overseeing various technical events.\\n•Collaborated with team members to streamline front desk operations, contributing to improved customer\\nsatisfaction and overall store efficiency.\\nSoftware Engineer 05/22 to 12/23\\nFIS Pune, India\\n•Saved 1500 hours by developing and implementing an automated funding booking system using Selenium in Java.\\n•Contributed to more than 750 hours/year savings by automating web-based project management processes using\\nSAFAL and VBA, garnering recognition for efficiency improvements.\\n•Worked in an Agile environment, following Agile principles and practices for project execution.\\n•Acted as a key liaison between the development team and clients, ensuring a clear understanding of project\\nrequirements and delivering solutions that exceeded client expectations.\\n•Played a key role in fostering team bonding as the lead of the Fun Committee, organizing multiple successful events\\nthat strengthened team cohesion and morale.\\n•Mentored and trained a junior team member in SAFAL, contributing to their professional development and skill\\nenhancement.', metadata={'source': './sahilhadke_resume.pdf', 'page': 0}),\n",
       " Document(page_content='Full Stack Developer - Internship 12/20 to 06/22\\nOG Advertising Private Limited Pune, India\\n•Led to an 80% reduction in manual efforts by developing a web application for automated invoice generation,\\nstreamlining the invoicing process for clients.\\n•Collaborated with prestigious educational institutes in India, delivering custom website solutions that met their\\nunique demands.\\n•Worked on AWS EC2 Instances, utilizing Web Host Manager and cPanel for website hosting, contributing to\\nenhanced performance and reliability.\\n•Led client engagement efforts, working closely with diverse clientele to understand and fulfill their specific\\nrequirements.\\n•Acted as the primary point of contact for clients, answering phone calls, and providing assistance with support\\nrequests in a professional manner.\\n•Supervised and mentored 2 interns, providing guidance and support throughout their internship tenure.\\nMember of System’s Team 01/24 to present\\nVideo Game Development Club ASU, Tempe\\n•Collaborated closely with Unity 3D and C# developers to integrate system functionalities seamlessly into game\\ndevelopment projects, ensuring optimal performance and compatibility with project requirements.\\n•Utilized GitHub for effective collaboration and version control, facilitating streamlined workflows and enabling\\ntransparent communication within the team.\\n•Worked collaboratively with music and design teams to integrate audiovisual assets into game projects, ensuring\\ncohesive and immersive gameplay experiences for end-users\\nProjects\\nJobTailor - Personalized Resume and Cover Letter Solution\\n•Developed an automated system using Python, LLM APIs, web scraping, and text mining to streamline the\\ncustomization of resumes and cover letters.\\n•Implemented a feature that analyzes job descriptions using text mining techniques and provides metrics on the\\nsimilarity between the tailored resume and the job requirements.\\n•Ensured the project’s end-to-end functionality, from web scraping job listings to parsing input documents and\\ngenerating final tailored resumes and cover letters in PDF format.\\nPassword Manager - Secure MERN Password Management Solution\\n•Developed a secure password manager using the MERN (MongoDB, Express.js, React, Node.js) stack to store and\\nmanage user passwords.\\n•Implemented encryption using bcrypt to ensure the security of stored passwords, protecting user data from\\nunauthorized access.\\n•Designed an intuitive user interface using React for easy navigation and efficient password management, enhancing\\nuser experience.\\nDijkstra’s Algorithm Visualisation View Project\\n•Implemented Dijkstra’s pathfinding algorithm in Unity3D using C#, enabling users to interactively select start and\\nend points and obstacles, visualizing the algorithm’s process.\\n•Designed an intuitive user interface that allows players to dynamically set up the environment and observe the\\nalgorithm’s pathfinding in action.\\n•Enhanced user experience by providing real-time feedback on the shortest path found, showcasing the algorithm’s\\nefficiency and effectiveness.\\nCustomer Relationship Management Tool\\n•Developed a custom CRM tool using CodeIgniter, PHP, MySQL, and Bootstrap, utilized by multiple educational\\ninstitutes in Pune to manage leads during admission campaigns, resulting in a 70% reduction in manual efforts.\\n•Implemented lead aggregation from various sources, including websites, Facebook, and Google, into a centralized\\ndashboard accessible to faculty members for efficient lead management.\\n•Enhanced administrative oversight by providing insights into lead closure rates per faculty, improving strategic\\ndecision-making and campaign effectiveness.', metadata={'source': './sahilhadke_resume.pdf', 'page': 1})]"
      ]
     },
     "execution_count": 20,
     "metadata": {},
     "output_type": "execute_result"
    }
   ],
   "source": [
    "from langchain_community.document_loaders import PyPDFLoader\n",
    "\n",
    "loader = PyPDFLoader('./sahilhadke_resume.pdf')\n",
    "text_documents = loader.load()\n",
    "text_documents\n"
   ]
  },
  {
   "cell_type": "markdown",
   "metadata": {},
   "source": [
    "### Splitting the text into chunks"
   ]
  },
  {
   "cell_type": "code",
   "execution_count": 22,
   "metadata": {},
   "outputs": [
    {
     "data": {
      "text/plain": [
       "[Document(page_content='Sahil Yogesh Hadke\\nTempe, AZ |+1-6026936593 |shadke1@asu.edu |https://sahil.hadke.in/\\nEducation\\nArizona State University, USA December 2025\\nMasters of Science - Computer Science\\nCoursework: Semantic Web Mining, Data Visualization, Knowledge Representation and Reasoning\\nSavitribai Phule Pune Univeristy, Pune, India May 2022\\nBachelor of Engineering in Computer Engineering GPA: 9.7/10\\nCoursework: Database Management, Artificial Intelligence, Data Structures & Algorithms\\nSkills\\nTechnical Skills : Node, Express, CodeIgniter, PHP, MongoDB, MySQL, Bootstrap, React, CSS, HTML, Web Scraping,\\nSelenium, RPA, Powershell, VBA, Microsoft Office Suite (Word, Excel, Powerpoint, Outlook), Google Sheets, OneNote,\\nSlack, Canvas, Dropbox, Adobe Acrobat, Photoshop, GIMP, Unity 3D, AWS\\nManagement Skills : Customer Service, Security Procedures, Verbal and Written Communication, Event Planning,\\nTeam Leadership, Radio Technologies and Walkie-Talkie Operation, Ability to lift up to 50 lbs', metadata={'source': './sahilhadke_resume.pdf', 'page': 0}),\n",
       " Document(page_content='Team Leadership, Radio Technologies and Walkie-Talkie Operation, Ability to lift up to 50 lbs\\nProgramming Languages : Python, Java, C++, C#, JavaScript\\nCertifications : AWS Cloud Foundations, cPanel Professional Certificate\\nExperience\\nFront Desk Assistant 05/18 to 8/18\\nNeeldeep Hardware Pune, India\\n•Managed a high volume of client interactions, serving an average of 50 customers daily , and consistently\\nproviding exceptional customer service with professionalism and efficiency.\\n•Successfully handled multiple responsibilities simultaneously, including managing an average of 25 phone calls\\ndaily , greeting customers, and addressing their concerns, contributing to a positive and welcoming atmosphere.\\n•Demonstrated strong interpersonal and communication skills while assisting customers with product information,\\nresolving issues, and ensuring a positive shopping experience.\\n•Collaborated with team members to streamline front desk operations, resulting in a 20% improvement in overall', metadata={'source': './sahilhadke_resume.pdf', 'page': 0}),\n",
       " Document(page_content='customer experience.\\n•Collaborated with team members to streamline front desk operations, contributing to improved customer\\nsatisfaction and overall store efficiency.\\nTechnical Secretary Head 11/21 to 12/22\\nComputer Engineering Student Association Pune, India\\n•Managed and led a team of 20+ students during events, ensuring smooth collaboration, delegation of tasks, and\\nadherence to timelines.\\n•Successfully conducted multiple events, showcasing effective event planning, coordination, and execution abilities.\\n•Demonstrated strong leadership and organizational skills in overseeing various technical events.\\n•Collaborated with team members to streamline front desk operations, contributing to improved customer\\nsatisfaction and overall store efficiency.\\nSoftware Engineer 05/22 to 12/23\\nFIS Pune, India\\n•Saved 1500 hours by developing and implementing an automated funding booking system using Selenium in Java.', metadata={'source': './sahilhadke_resume.pdf', 'page': 0}),\n",
       " Document(page_content='•Contributed to more than 750 hours/year savings by automating web-based project management processes using\\nSAFAL and VBA, garnering recognition for efficiency improvements.\\n•Worked in an Agile environment, following Agile principles and practices for project execution.\\n•Acted as a key liaison between the development team and clients, ensuring a clear understanding of project\\nrequirements and delivering solutions that exceeded client expectations.\\n•Played a key role in fostering team bonding as the lead of the Fun Committee, organizing multiple successful events\\nthat strengthened team cohesion and morale.\\n•Mentored and trained a junior team member in SAFAL, contributing to their professional development and skill\\nenhancement.', metadata={'source': './sahilhadke_resume.pdf', 'page': 0}),\n",
       " Document(page_content='Full Stack Developer - Internship 12/20 to 06/22\\nOG Advertising Private Limited Pune, India\\n•Led to an 80% reduction in manual efforts by developing a web application for automated invoice generation,\\nstreamlining the invoicing process for clients.\\n•Collaborated with prestigious educational institutes in India, delivering custom website solutions that met their\\nunique demands.\\n•Worked on AWS EC2 Instances, utilizing Web Host Manager and cPanel for website hosting, contributing to\\nenhanced performance and reliability.\\n•Led client engagement efforts, working closely with diverse clientele to understand and fulfill their specific\\nrequirements.\\n•Acted as the primary point of contact for clients, answering phone calls, and providing assistance with support\\nrequests in a professional manner.\\n•Supervised and mentored 2 interns, providing guidance and support throughout their internship tenure.\\nMember of System’s Team 01/24 to present\\nVideo Game Development Club ASU, Tempe', metadata={'source': './sahilhadke_resume.pdf', 'page': 1}),\n",
       " Document(page_content='Member of System’s Team 01/24 to present\\nVideo Game Development Club ASU, Tempe\\n•Collaborated closely with Unity 3D and C# developers to integrate system functionalities seamlessly into game\\ndevelopment projects, ensuring optimal performance and compatibility with project requirements.\\n•Utilized GitHub for effective collaboration and version control, facilitating streamlined workflows and enabling\\ntransparent communication within the team.\\n•Worked collaboratively with music and design teams to integrate audiovisual assets into game projects, ensuring\\ncohesive and immersive gameplay experiences for end-users\\nProjects\\nJobTailor - Personalized Resume and Cover Letter Solution\\n•Developed an automated system using Python, LLM APIs, web scraping, and text mining to streamline the\\ncustomization of resumes and cover letters.\\n•Implemented a feature that analyzes job descriptions using text mining techniques and provides metrics on the', metadata={'source': './sahilhadke_resume.pdf', 'page': 1}),\n",
       " Document(page_content='similarity between the tailored resume and the job requirements.\\n•Ensured the project’s end-to-end functionality, from web scraping job listings to parsing input documents and\\ngenerating final tailored resumes and cover letters in PDF format.\\nPassword Manager - Secure MERN Password Management Solution\\n•Developed a secure password manager using the MERN (MongoDB, Express.js, React, Node.js) stack to store and\\nmanage user passwords.\\n•Implemented encryption using bcrypt to ensure the security of stored passwords, protecting user data from\\nunauthorized access.\\n•Designed an intuitive user interface using React for easy navigation and efficient password management, enhancing\\nuser experience.\\nDijkstra’s Algorithm Visualisation View Project\\n•Implemented Dijkstra’s pathfinding algorithm in Unity3D using C#, enabling users to interactively select start and\\nend points and obstacles, visualizing the algorithm’s process.', metadata={'source': './sahilhadke_resume.pdf', 'page': 1}),\n",
       " Document(page_content='end points and obstacles, visualizing the algorithm’s process.\\n•Designed an intuitive user interface that allows players to dynamically set up the environment and observe the\\nalgorithm’s pathfinding in action.\\n•Enhanced user experience by providing real-time feedback on the shortest path found, showcasing the algorithm’s\\nefficiency and effectiveness.\\nCustomer Relationship Management Tool\\n•Developed a custom CRM tool using CodeIgniter, PHP, MySQL, and Bootstrap, utilized by multiple educational\\ninstitutes in Pune to manage leads during admission campaigns, resulting in a 70% reduction in manual efforts.\\n•Implemented lead aggregation from various sources, including websites, Facebook, and Google, into a centralized\\ndashboard accessible to faculty members for efficient lead management.\\n•Enhanced administrative oversight by providing insights into lead closure rates per faculty, improving strategic\\ndecision-making and campaign effectiveness.', metadata={'source': './sahilhadke_resume.pdf', 'page': 1})]"
      ]
     },
     "execution_count": 22,
     "metadata": {},
     "output_type": "execute_result"
    }
   ],
   "source": [
    "\n",
    "from langchain.text_splitter import RecursiveCharacterTextSplitter\n",
    "\n",
    "text_splitter = RecursiveCharacterTextSplitter(chunk_size=1000, chunk_overlap=100)\n",
    "documents = text_splitter.split_documents(text_documents)\n",
    "documents"
   ]
  },
  {
   "cell_type": "code",
   "execution_count": 38,
   "metadata": {},
   "outputs": [],
   "source": [
    "from langchain_community.embeddings import HuggingFaceEmbeddings\n",
    "from langchain_community.vectorstores import Chroma\n",
    "# TODO: explore lance\n",
    "\n",
    "db = Chroma.from_documents(documents, HuggingFaceEmbeddings())"
   ]
  },
  {
   "cell_type": "code",
   "execution_count": 30,
   "metadata": {},
   "outputs": [
    {
     "data": {
      "text/plain": [
       "'Member of System’s Team 01/24 to present\\nVideo Game Development Club ASU, Tempe\\n•Collaborated closely with Unity 3D and C# developers to integrate system functionalities seamlessly into game\\ndevelopment projects, ensuring optimal performance and compatibility with project requirements.\\n•Utilized GitHub for effective collaboration and version control, facilitating streamlined workflows and enabling\\ntransparent communication within the team.\\n•Worked collaboratively with music and design teams to integrate audiovisual assets into game projects, ensuring\\ncohesive and immersive gameplay experiences for end-users\\nProjects\\nJobTailor - Personalized Resume and Cover Letter Solution\\n•Developed an automated system using Python, LLM APIs, web scraping, and text mining to streamline the\\ncustomization of resumes and cover letters.\\n•Implemented a feature that analyzes job descriptions using text mining techniques and provides metrics on the'"
      ]
     },
     "execution_count": 30,
     "metadata": {},
     "output_type": "execute_result"
    }
   ],
   "source": [
    "query = \"game development\"\n",
    "results = db.similarity_search(query)\n",
    "results[0].page_content"
   ]
  },
  {
   "cell_type": "code",
   "execution_count": 33,
   "metadata": {},
   "outputs": [
    {
     "name": "stderr",
     "output_type": "stream",
     "text": [
      "/Users/sahilhadke/Desktop/langchain-basic/venv/lib/python3.10/site-packages/huggingface_hub/file_download.py:1132: FutureWarning: `resume_download` is deprecated and will be removed in version 1.0.0. Downloads always resume when possible. If you want to force a new download, use `force_download=True`.\n",
      "  warnings.warn(\n"
     ]
    }
   ],
   "source": [
    "## FAISS\n",
    "from langchain_community.vectorstores import FAISS\n",
    "db = FAISS.from_documents(documents, HuggingFaceEmbeddings())"
   ]
  },
  {
   "cell_type": "code",
   "execution_count": 37,
   "metadata": {},
   "outputs": [
    {
     "data": {
      "text/plain": [
       "'•Contributed to more than 750 hours/year savings by automating web-based project management processes using\\nSAFAL and VBA, garnering recognition for efficiency improvements.\\n•Worked in an Agile environment, following Agile principles and practices for project execution.\\n•Acted as a key liaison between the development team and clients, ensuring a clear understanding of project\\nrequirements and delivering solutions that exceeded client expectations.\\n•Played a key role in fostering team bonding as the lead of the Fun Committee, organizing multiple successful events\\nthat strengthened team cohesion and morale.\\n•Mentored and trained a junior team member in SAFAL, contributing to their professional development and skill\\nenhancement.'"
      ]
     },
     "execution_count": 37,
     "metadata": {},
     "output_type": "execute_result"
    }
   ],
   "source": [
    "query = \"rpa\"\n",
    "results = db.similarity_search(query, k=5)\n",
    "results[0].page_content"
   ]
  },
  {
   "cell_type": "markdown",
   "metadata": {},
   "source": [
    "#### Using LLM to answer some questions based on context provided by vector store"
   ]
  },
  {
   "cell_type": "code",
   "execution_count": 1,
   "metadata": {},
   "outputs": [],
   "source": [
    "from langchain_core.prompts import ChatPromptTemplate\n",
    "prompt = ChatPromptTemplate.from_template(\"\"\"\n",
    "Answer the following question based only on the provided context.\n",
    "<context>\n",
    "{context}\n",
    "</context>\n",
    "---\n",
    "Question: {question}                                                                                                                 \n",
    "\"\"\")"
   ]
  },
  {
   "cell_type": "code",
   "execution_count": null,
   "metadata": {},
   "outputs": [],
   "source": [
    "from langchain.chains.combine_documents import create_stuff_documents_chain\n",
    "\n",
    "document_chain = create_stuff_documents_chain(documents, prompt)"
   ]
  }
 ],
 "metadata": {
  "kernelspec": {
   "display_name": "Python 3",
   "language": "python",
   "name": "python3"
  },
  "language_info": {
   "codemirror_mode": {
    "name": "ipython",
    "version": 3
   },
   "file_extension": ".py",
   "mimetype": "text/x-python",
   "name": "python",
   "nbconvert_exporter": "python",
   "pygments_lexer": "ipython3",
   "version": "3.10.14"
  }
 },
 "nbformat": 4,
 "nbformat_minor": 2
}
